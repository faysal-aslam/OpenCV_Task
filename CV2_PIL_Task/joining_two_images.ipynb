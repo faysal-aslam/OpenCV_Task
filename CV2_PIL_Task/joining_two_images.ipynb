{
 "cells": [
  {
   "cell_type": "markdown",
   "id": "77af2de6",
   "metadata": {},
   "source": [
    "# join 2 images vertically using PIL"
   ]
  },
  {
   "cell_type": "code",
   "execution_count": 36,
   "id": "2ecadd24",
   "metadata": {},
   "outputs": [],
   "source": [
    "from PIL import Image\n",
    "def join_v_pil(im1, im2):\n",
    "    # Resize images to have the same width\n",
    "\n",
    "    pic1 = im1.resize((500, 500))\n",
    "    pic2 = im2.resize((500, 500))\n",
    "\n",
    "    space = Image.new('RGB', (500, 1000))\n",
    "    space.paste(pic1, (0, 0, 500, 500))\n",
    "    space.paste(pic2, (0, 500, 500, 1000))\n",
    "\n",
    "    return space\n",
    "\n",
    "im1_path = \"C:/Users/Faisal/Downloads/baboon.png\"\n",
    "im2_path = \"C:/Users/Faisal/Downloads/rebecca.jpg\"\n",
    "\n",
    "im1 = Image.open(im1_path)\n",
    "im2 = Image.open(im2_path)\n",
    "\n",
    "join_v_pil(im1, im2).show()"
   ]
  },
  {
   "cell_type": "markdown",
   "id": "ae10bbeb",
   "metadata": {},
   "source": [
    "# join 2 images horizontally using PIL"
   ]
  },
  {
   "cell_type": "code",
   "execution_count": 38,
   "id": "e353609e",
   "metadata": {},
   "outputs": [],
   "source": [
    "from PIL import Image\n",
    "def join_v_pil(im1, im2):\n",
    "    # Resizing images to have the same width\n",
    "\n",
    "    pic1 = im1.resize((500, 500))\n",
    "    pic2 = im2.resize((500, 500))\n",
    "\n",
    "    space = Image.new('RGB', (1000, 500))\n",
    "    space.paste(pic1, (0, 0, 500, 500))\n",
    "    space.paste(pic2, (500, 0, 1000, 500))\n",
    "\n",
    "    return space\n",
    "\n",
    "im1_path = \"C:/Users/Faisal/Downloads/baboon.png\"\n",
    "im2_path = \"C:/Users/Faisal/Downloads/rebecca.jpg\"\n",
    "\n",
    "im1 = Image.open(im1_path)\n",
    "im2 = Image.open(im2_path)\n",
    "\n",
    "join_v_pil(im1, im2).show()"
   ]
  },
  {
   "cell_type": "markdown",
   "id": "46cb68a7",
   "metadata": {},
   "source": [
    "# join 2 images vertically using CV2"
   ]
  },
  {
   "cell_type": "code",
   "execution_count": 17,
   "id": "8aead5dc",
   "metadata": {},
   "outputs": [],
   "source": [
    "import cv2\n",
    "import numpy as np\n",
    "from PIL import Image\n",
    "\n",
    "def join_v_cv2(im1, im2):\n",
    "    # Resizing images\n",
    "\n",
    "    im1_resized = cv2.resize(im1, (500, 400))\n",
    "    im2_resized = cv2.resize(im2, (500, 400))\n",
    "\n",
    "    # Create a vertical stack of the two images\n",
    "\n",
    "    joined_image = np.vstack((im1_resized, im2_resized))\n",
    "    return joined_image\n",
    "\n",
    "im1_path = \"C:/Users/Faisal/Downloads/baboon.png\"\n",
    "im2_path = \"C:/Users/Faisal/Downloads/rebecca.jpg\"\n",
    "\n",
    "im1 = cv2.imread(im1_path)\n",
    "im2 = cv2.imread(im2_path)\n",
    "\n",
    "joined_image = join_v_cv2(im1, im2)\n",
    "Image.fromarray(joined_image).show()"
   ]
  },
  {
   "cell_type": "markdown",
   "id": "9b4725ae",
   "metadata": {},
   "source": [
    "# join 2 images horizontally using CV2"
   ]
  },
  {
   "cell_type": "code",
   "execution_count": 18,
   "id": "0c7b4886",
   "metadata": {},
   "outputs": [],
   "source": [
    "import cv2\n",
    "import numpy as np\n",
    "from PIL import Image\n",
    "\n",
    "def join_v_cv2(im1, im2):\n",
    "    # Resizing images\n",
    "\n",
    "    im1_resized = cv2.resize(im1, (500, 400))\n",
    "    im2_resized = cv2.resize(im2, (500, 400))\n",
    "\n",
    "    # Create a vertical stack of the two images\n",
    "\n",
    "    joined_image = np.hstack((im1_resized, im2_resized))\n",
    "    return joined_image\n",
    "\n",
    "im1_path = \"C:/Users/Faisal/Downloads/baboon.png\"\n",
    "im2_path = \"C:/Users/Faisal/Downloads/rebecca.jpg\"\n",
    "\n",
    "im1 = cv2.imread(im1_path)\n",
    "im2 = cv2.imread(im2_path)\n",
    "\n",
    "joined_image = join_v_cv2(im1, im2)\n",
    "Image.fromarray(joined_image).show()\n"
   ]
  },
  {
   "cell_type": "code",
   "execution_count": null,
   "id": "71aaf33f",
   "metadata": {},
   "outputs": [],
   "source": []
  }
 ],
 "metadata": {
  "kernelspec": {
   "display_name": "Python 3 (ipykernel)",
   "language": "python",
   "name": "python3"
  },
  "language_info": {
   "codemirror_mode": {
    "name": "ipython",
    "version": 3
   },
   "file_extension": ".py",
   "mimetype": "text/x-python",
   "name": "python",
   "nbconvert_exporter": "python",
   "pygments_lexer": "ipython3",
   "version": "3.11.3"
  }
 },
 "nbformat": 4,
 "nbformat_minor": 5
}
